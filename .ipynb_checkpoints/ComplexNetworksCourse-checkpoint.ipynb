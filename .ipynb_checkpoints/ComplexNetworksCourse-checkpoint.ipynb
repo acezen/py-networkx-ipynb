{
 "cells": [
  {
   "cell_type": "code",
   "execution_count": 1,
   "metadata": {
    "collapsed": false
   },
   "outputs": [],
   "source": [
    "%matplotlib inline"
   ]
  },
  {
   "cell_type": "markdown",
   "metadata": {},
   "source": [
    "# 复杂网络课程\n",
    "## *用Python做复杂网络分析*\n",
    "\n",
    "### NetworkX\n",
    "NetworkX是python下的复杂网络分析包，内置了常用的复杂网络分析算法，不定期更新。\n",
    "\n",
    "相关参考资料：\n",
    "1. [NetworkX Documentation](https://networkx.github.io)\n",
    "2. NetworkX入门笔记\n",
    "    - [呆思的复杂网络博客](https://challenge19.github.io/2017/01/29/Complex-Networks/)\n",
    "    - [关于不同程序包效率比较的博客](https://challenge19.github.io/2016/08/15/Network-Analysis-Package-in-Python/)\n",
    "    - [科学网闫小勇博客](http://blog.sciencenet.cn/home.php?mod=space&uid=404069&do=blog&classid=141080&view=me&from=space)"
   ]
  },
  {
   "cell_type": "code",
   "execution_count": 2,
   "metadata": {
    "collapsed": false
   },
   "outputs": [],
   "source": [
    "## load packages\n",
    "import networkx as nx\n",
    "import numpy as np #数值计算包\n",
    "import scipy as sp #科学计算包\n",
    "import matplotlib.pyplot as plt #绘图包"
   ]
  },
  {
   "cell_type": "markdown",
   "metadata": {},
   "source": [
    "## 简单的统计分析--以空手道俱乐部网络为例\n",
    "\n",
    "空手道俱乐部网络是复杂网络分析中常用的一个例子网络，在分析节点中心性和社团结构等问题时都会被使用。\n",
    "因此Networkx中也自带了空手道俱乐部网，以如下方式调用：\n",
    "```python\n",
    "G = nx.karate_club_graph()\n",
    "```\n",
    "\n",
    "也可以从外部文件读入数据\n",
    "\n",
    "```python\n",
    "G = nx.read_edgelist('./data/karate.csv',comments='S',delimiter=',',create_using=nx.Graph(),data=(('type', str),))#数据的位置，产生为什么网络（这里是无向网络），数据是如何分列的\n",
    "```"
   ]
  },
  {
   "cell_type": "code",
   "execution_count": 3,
   "metadata": {
    "collapsed": false
   },
   "outputs": [],
   "source": [
    "##读取 空手道俱乐部 网络\n",
    "G = nx.karate_club_graph()"
   ]
  },
  {
   "cell_type": "markdown",
   "metadata": {},
   "source": [
    "接下来对该网络进行一些简单的统计分析。\n",
    "\n",
    "\n",
    "#### 节点和边\n",
    "\n",
    "网络节点的数量：\n",
    "```python\n",
    "N = G.number_of_nodes()  # len(G.nodes())\n",
    "```\n",
    "\n",
    "网络边的数量：\n",
    "```python\n",
    "N = G.number_of_edges()  # len(G.edges())\n",
    "```"
   ]
  },
  {
   "cell_type": "code",
   "execution_count": 5,
   "metadata": {
    "collapsed": false
   },
   "outputs": [
    {
     "name": "stdout",
     "output_type": "stream",
     "text": [
      "total nodes: 34\n",
      "total edges: 78\n"
     ]
    }
   ],
   "source": [
    "## 节点和边的数量\n",
    "\n",
    "N = G.number_of_nodes()\n",
    "L = G.number_of_edges()\n",
    "\n",
    "print 'total nodes:',N\n",
    "print 'total edges:',L"
   ]
  },
  {
   "cell_type": "markdown",
   "metadata": {},
   "source": [
    "#### 节点的度\n",
    "\n",
    "节点的度定义为节点的边的数量(在有向网中，可以是入边或者出边)。\n",
    "\n",
    "```python\n",
    "G.degree()  #返回所有节点的度\n",
    "G.degree(1) #返回特定节点的度\n",
    "```"
   ]
  },
  {
   "cell_type": "code",
   "execution_count": 6,
   "metadata": {
    "collapsed": false,
    "scrolled": true
   },
   "outputs": [
    {
     "name": "stdout",
     "output_type": "stream",
     "text": [
      "degree of each node: {0: 16, 1: 9, 2: 10, 3: 6, 4: 3, 5: 4, 6: 4, 7: 4, 8: 5, 9: 2, 10: 3, 11: 1, 12: 2, 13: 5, 14: 2, 15: 2, 16: 2, 17: 2, 18: 2, 19: 3, 20: 2, 21: 2, 22: 2, 23: 5, 24: 3, 25: 3, 26: 2, 27: 4, 28: 3, 29: 4, 30: 4, 31: 6, 32: 12, 33: 17}\n",
      "average degree: 4.58823529412\n"
     ]
    },
    {
     "data": {
      "text/plain": [
       "<matplotlib.text.Text at 0x10fb224d0>"
      ]
     },
     "execution_count": 6,
     "metadata": {},
     "output_type": "execute_result"
    },
    {
     "data": {
      "image/png": "[encoded data removed]",
      "text/plain": [
       "<matplotlib.figure.Figure at 0x10f9e8550>"
      ]
     },
     "metadata": {},
     "output_type": "display_data"
    }
   ],
   "source": [
    "## 节点的度\n",
    "\n",
    "degs = nx.degree(G)\n",
    "print 'degree of each node:',degs\n",
    "print 'average degree:',np.mean(degs.values())\n",
    "## 度分布 统计分布图\n",
    "\n",
    "plt.hist(degs.values(), bins=range(N))\n",
    "plt.xlabel('degree',fontsize=14)\n",
    "plt.ylabel('frequency',fontsize=14)\n",
    "plt.title('degree distribution',fontsize=14)"
   ]
  },
  {
   "cell_type": "markdown",
   "metadata": {},
   "source": [
    "#### 集聚系数\n",
    "\n",
    "$$c_i=\\frac{\\sum_j\\sum_m A_{ij}A_{jm}A_{mi}}{k_i(k_i-1)}$$\n",
    "\n",
    "$$C = \\langle c_i \\rangle$$\n",
    "\n",
    "```python\n",
    "nx.clustering(G)   #返回所有节点的集聚系数\n",
    "nx.clustering(G,1) #返回特定节点的集聚系数\n",
    "```"
   ]
  },
  {
   "cell_type": "code",
   "execution_count": 7,
   "metadata": {
    "collapsed": false
   },
   "outputs": [
    {
     "name": "stdout",
     "output_type": "stream",
     "text": [
      "clustering coefficient of each node: {0: 0.15, 1: 0.3333333333333333, 2: 0.24444444444444444, 3: 0.6666666666666666, 4: 0.6666666666666666, 5: 0.5, 6: 0.5, 7: 1.0, 8: 0.5, 9: 0.0, 10: 0.6666666666666666, 11: 0.0, 12: 1.0, 13: 0.6, 14: 1.0, 15: 1.0, 16: 1.0, 17: 1.0, 18: 1.0, 19: 0.3333333333333333, 20: 1.0, 21: 1.0, 22: 1.0, 23: 0.4, 24: 0.3333333333333333, 25: 0.3333333333333333, 26: 1.0, 27: 0.16666666666666666, 28: 0.3333333333333333, 29: 0.6666666666666666, 30: 0.5, 31: 0.2, 32: 0.19696969696969696, 33: 0.11029411764705882}\n",
      "average clustering coefficient: 0.570638478208\n"
     ]
    }
   ],
   "source": [
    "## 聚集系数\n",
    "cc = nx.clustering(G)\n",
    "print 'clustering coefficient of each node:',cc\n",
    "print 'average clustering coefficient:',np.mean(cc.values()) # nx.average_clustering(G)"
   ]
  },
  {
   "cell_type": "markdown",
   "metadata": {},
   "source": [
    "我们可以注意到，NetworkX计算得到平均集聚系数与Gephi得到的结果(0.58)有所不同，主要原因是两者在处理度为1的节点时采取了不同的做法：\n",
    "- Gephi：忽略度为1的节点\n",
    "- networkx：直接取值为0"
   ]
  },
  {
   "cell_type": "code",
   "execution_count": 8,
   "metadata": {
    "collapsed": false
   },
   "outputs": [
    {
     "data": {
      "text/plain": [
       "<matplotlib.text.Text at 0x112258050>"
      ]
     },
     "execution_count": 8,
     "metadata": {},
     "output_type": "execute_result"
    },
    {
     "data": {
      "image/png": "[encoded data removed]",
      "text/plain": [
       "<matplotlib.figure.Figure at 0x111dbd190>"
      ]
     },
     "metadata": {},
     "output_type": "display_data"
    }
   ],
   "source": [
    "## 聚集系数 统计分布图\n",
    "\n",
    "plt.figure(figsize=(9,5))\n",
    "plt.subplot(1,2,1)\n",
    "plt.hist(cc.values(), bins=10)\n",
    "plt.xlabel('clustering coefficent')\n",
    "plt.ylabel('frequency')\n",
    "plt.title('clustring coefficient distribution')\n",
    "\n",
    "\n",
    "plt.subplot(1,2,2)\n",
    "plt.scatter([degs[i] for i in G],[cc[i] for i in G],c='g')\n",
    "plt.xlabel('k')\n",
    "plt.ylabel('C(k)')"
   ]
  },
  {
   "cell_type": "markdown",
   "metadata": {},
   "source": [
    "从散点图上可以看到集聚系数与度负相关，这样的结果是社会网络的特点吗？可以看看相同度序列下的随机网络的结果"
   ]
  },
  {
   "cell_type": "code",
   "execution_count": 16,
   "metadata": {
    "collapsed": false
   },
   "outputs": [
    {
     "data": {
      "text/plain": [
       "<matplotlib.text.Text at 0x112a51690>"
      ]
     },
     "execution_count": 16,
     "metadata": {},
     "output_type": "execute_result"
    },
    {
     "data": {
      "image/png": "[encoded data removed]",
      "text/plain": [
       "<matplotlib.figure.Figure at 0x112a1cf50>"
      ]
     },
     "metadata": {},
     "output_type": "display_data"
    }
   ],
   "source": [
    "g_r = nx.algorithms.swap.double_edge_swap(G,4*G.number_of_edges(),max_tries=10000)\n",
    "cc_r = nx.clustering(g_r)\n",
    "plt.scatter([degs[i] for i in G],[cc_r[i] for i in G],c='g')\n",
    "plt.xlabel('k')\n",
    "plt.ylabel('C(k)')"
   ]
  },
  {
   "cell_type": "markdown",
   "metadata": {},
   "source": [
    "#### 最短距离\n",
    "\n",
    "节点间的最短距离$d_{ij}$表示从节点i最少走多少距离可以到节点j。\n",
    "\n",
    "```python\n",
    "nx.shortest_path_length(G,source=1,target=2) #返回特定节点间的最短距离\n",
    "nx.shortest_path_length(G,source=1) #返回特定节点与其它所有节点的最短距离\n",
    "nx.shortest_path_length(G) #返回所有节点间的最短距离\n",
    "```"
   ]
  },
  {
   "cell_type": "code",
   "execution_count": 17,
   "metadata": {
    "collapsed": false
   },
   "outputs": [
    {
     "name": "stdout",
     "output_type": "stream",
     "text": [
      "SPL between 2 and 19: 2\n",
      "average SPL: 2.21212121212\n"
     ]
    }
   ],
   "source": [
    "## 两个节点间的最短距离\n",
    "d12 = nx.shortest_path_length(G, source=2, target=19) # 节点 2 和节点 19间的最短距离\n",
    "print 'SPL between 2 and 19:',d12\n",
    "\n",
    "\n",
    "## 节点间最短距离\n",
    "avg_d = nx.average_shortest_path_length(G) # 平均最短距离\n",
    "print 'average SPL:',avg_d"
   ]
  },
  {
   "cell_type": "code",
   "execution_count": 15,
   "metadata": {
    "collapsed": false
   },
   "outputs": [
    {
     "name": "stdout",
     "output_type": "stream",
     "text": [
      "2.40819964349\n"
     ]
    },
    {
     "data": {
      "text/plain": [
       "<matplotlib.text.Text at 0x11a014110>"
      ]
     },
     "execution_count": 15,
     "metadata": {},
     "output_type": "execute_result"
    },
    {
     "data": {
      "image/png": "[encoded data removed]",
      "text/plain": [
       "<matplotlib.figure.Figure at 0x11a00ac90>"
      ]
     },
     "metadata": {},
     "output_type": "display_data"
    }
   ],
   "source": [
    "## 最短距离分布\n",
    "pair_d = nx.shortest_path_length(G) # 任意两个节点间的距离\n",
    "\n",
    "dd = [pair_d[i][j] for i in G for j in G if i!=j]\n",
    "print np.mean(dd)\n",
    "\n",
    "bins = np.arange(-0.5, max(dd)+1.5, 1.0)\n",
    "plt.hist(dd,bins=bins)\n",
    "\n",
    "plt.plot([avg_d,avg_d],[0,1000],'r--',lw=3)\n",
    "\n",
    "plt.ylim(0,650)\n",
    "\n",
    "plt.xlabel('d')\n",
    "plt.ylabel('frequency')"
   ]
  },
  {
   "cell_type": "markdown",
   "metadata": {},
   "source": [
    "NetworkX 在计算最短距离时，如果遇到网络不联通，会提示错误。有两种处理方式：\n",
    "1. 分别计算分别每个子联通网络的平均最短距离\n",
    "2. 将不联通的两个节点的距离记为网络规模N"
   ]
  },
  {
   "cell_type": "code",
   "execution_count": 16,
   "metadata": {
    "collapsed": false
   },
   "outputs": [],
   "source": [
    "def spl_1(g):\n",
    "    spl = []\n",
    "    for sg in nx.connected_component_subgraphs(g):\n",
    "        spl.append(nx.average_shortest_path_length(sg))\n",
    "    return np.mean(spl)\n",
    "\n",
    "\n",
    "def spl_2(g):\n",
    "    spl = 0\n",
    "    N = len(g)\n",
    "    for sg in nx.connected_component_subgraphs(g):\n",
    "        n = len(sg)\n",
    "        if len(sg)>1:\n",
    "            spl+=nx.average_shortest_path_length(sg) * n*(n-1)\n",
    "        spl += N*n*(N-n)\n",
    "    return spl/N/(N-1)"
   ]
  },
  {
   "cell_type": "code",
   "execution_count": 7,
   "metadata": {
    "collapsed": false
   },
   "outputs": [
    {
     "name": "stdout",
     "output_type": "stream",
     "text": [
      "{0: 0.4376352813852815, 1: 0.053936688311688304, 2: 0.14365680615680618, 3: 0.011909271284271283, 4: 0.0006313131313131313, 5: 0.02998737373737374, 6: 0.029987373737373736, 7: 0.0, 8: 0.05592682780182781, 9: 0.0008477633477633478, 10: 0.0006313131313131313, 11: 0.0, 12: 0.0, 13: 0.04586339586339586, 14: 0.0, 15: 0.0, 16: 0.0, 17: 0.0, 18: 0.0, 19: 0.03247504810004811, 20: 0.0, 21: 0.0, 22: 0.0, 23: 0.017613636363636363, 24: 0.0022095959595959595, 25: 0.0038404882154882154, 26: 0.0, 27: 0.02233345358345358, 28: 0.0017947330447330447, 29: 0.0029220779220779218, 30: 0.014411976911976907, 31: 0.13827561327561325, 32: 0.145247113997114, 33: 0.304074975949976}\n"
     ]
    }
   ],
   "source": [
    "print nx.betweenness_centrality(G)\n",
    "\n",
    "\n",
    "nx.betweenness_centrality()"
   ]
  },
  {
   "cell_type": "markdown",
   "metadata": {},
   "source": [
    "## 随机网络模型\n",
    "随机网络模型是网络分析中常用的模型网络。\n",
    "Erd\\\"os R\\'enyi随机网络的产生的规则为以p的概率在任意两个节点产生一条边。\n",
    "随着网络平均度的增大，ER随机网络会逐渐呈现出丰富的相变现象。"
   ]
  },
  {
   "cell_type": "code",
   "execution_count": 36,
   "metadata": {
    "collapsed": false
   },
   "outputs": [
    {
     "name": "stdout",
     "output_type": "stream",
     "text": [
      "average degree: 6.026\n",
      "15\n"
     ]
    },
    {
     "data": {
      "text/plain": [
       "(array([ 0.003,  0.016,  0.052,  0.08 ,  0.128,  0.168,  0.143,  0.138,\n",
       "         0.11 ,  0.08 ,  0.043,  0.021,  0.011,  0.002,  0.004,  0.001]),\n",
       " array([ -0.5,   0.5,   1.5,   2.5,   3.5,   4.5,   5.5,   6.5,   7.5,\n",
       "          8.5,   9.5,  10.5,  11.5,  12.5,  13.5,  14.5,  15.5]),\n",
       " <a list of 16 Patch objects>)"
      ]
     },
     "execution_count": 36,
     "metadata": {},
     "output_type": "execute_result"
    },
    {
     "data": {
      "image/png": "[encoded data removed]",
      "text/plain": [
       "<matplotlib.figure.Figure at 0x11488ff90>"
      ]
     },
     "metadata": {},
     "output_type": "display_data"
    }
   ],
   "source": [
    "N = 1000\n",
    "p = 6.0/N\n",
    "\n",
    "## 产生ER随机网\n",
    "g = nx.erdos_renyi_graph(N, p, directed=False)\n",
    "\n",
    "# g = nx.generators.random_graphs.gnm_random_graph(num_of_nodes, num_of_edges)\n",
    "# g = nx.generators.random_graphs.gnp_random_graph(num_of_nodes, connect_prob)\n",
    "\n",
    "\n",
    "## 平均度\n",
    "degree_of_g = nx.degree(g)\n",
    "print 'average degree:',np.mean(degree_of_g.values())\n",
    "\n",
    "\n",
    "## 度分布\n",
    "degree_of_g = degree_of_g.values()\n",
    "print max(degree_of_g)\n",
    "bins = np.arange(-0.5, max(degree_of_g)+1.5, 1.0)\n",
    "plt.hist(degree_of_g, bins = bins, normed=1, facecolor='green', alpha=0.5)\n",
    "plt.xlabel('degree')\n",
    "plt.title('degree distribution')\n"
   ]
  },
  {
   "cell_type": "markdown",
   "metadata": {},
   "source": [
    "### 随机网理论分析\n",
    "1. 理论推导随机网络的度分布(二项分布 -> Poisson)\n",
    "2. 用程序生成ER随机网，改变不同平均度下，随机网的各个统计指标"
   ]
  },
  {
   "cell_type": "code",
   "execution_count": 26,
   "metadata": {
    "collapsed": false
   },
   "outputs": [
    {
     "data": {
      "image/png": "[encoded data removed]",
      "text/plain": [
       "<matplotlib.figure.Figure at 0xab754b2c>"
      ]
     },
     "metadata": {},
     "output_type": "display_data"
    }
   ],
   "source": [
    "import scipy.stats\n",
    "\n",
    "N = 1000\n",
    "\n",
    "krange = [0.5, 1.0, 2.0, np.log(N)]\n",
    "\n",
    "for i in xrange(4):\n",
    "    k = krange[i]\n",
    "    p = 1.0*k/(N-1)\n",
    "    deg = []\n",
    "    for _ in xrange(100):\n",
    "        g = nx.erdos_renyi_graph(N, p, directed=False)\n",
    "        deg += nx.degree(g).values()\n",
    "    plt.subplot(2,2,i+1)\n",
    "    bins = np.arange(-0.5, max(deg)+0.5, 1.0)\n",
    "    plt.hist(deg, bins = bins, normed=1, facecolor='green', alpha=0.5)\n",
    "    plt.plot(xrange(15), [scipy.stats.poisson.pmf(xi, k) for xi in xrange(15)], 'ro-')\n",
    "    plt.xlim(-1, 15)\n",
    "    plt.title('<k>=%s'%k)\n",
    "plt.subplots_adjust(wspace=0.2, hspace=0.3)"
   ]
  },
  {
   "cell_type": "markdown",
   "metadata": {},
   "source": [
    "#### 连通集团\n",
    "子网络中任意两点间可以可达(有向网络，可以分为弱连通集团和强连通集团)。\n",
    "\n",
    "\n",
    "```python\n",
    "nx.connected_component_subgraphs(g) #返回无向网络的各个连通集团\n",
    "nx.strongly_connected_componen_subgraphs(g) #返回有向网络的强连通集团\n",
    "nx.waekly_connected_componen_subgraphs(g) #返回有向网络的弱连通集团\n",
    "```"
   ]
  },
  {
   "cell_type": "code",
   "execution_count": 23,
   "metadata": {
    "collapsed": false
   },
   "outputs": [],
   "source": [
    "N = 1000\n",
    "\n",
    "krange = np.arange(0.2,2*np.log(N), 0.2)"
   ]
  },
  {
   "cell_type": "code",
   "execution_count": 24,
   "metadata": {
    "collapsed": false
   },
   "outputs": [],
   "source": [
    "Avg_deg = []\n",
    "Avg_cls = []\n",
    "Avg_spl = []\n",
    "Avg_gcc = []\n",
    "\n",
    "for k in krange:\n",
    "    avg_deg = []\n",
    "    avg_cls = []\n",
    "    avg_spl = []\n",
    "    avg_gcc = []\n",
    "    for _ in xrange(10):\n",
    "        p = 1.0*k/(N-1)\n",
    "        g = nx.erdos_renyi_graph(N, p, directed=False)\n",
    "\n",
    "        avg_deg.append(np.mean(nx.degree(g).values()))\n",
    "        avg_cls.append(nx.average_clustering(g))\n",
    "        avg_gcc.append(max([len(x) for x in nx.connected_components(g)]))\n",
    "        \n",
    "        avg_spl.append(spl_2(g))\n",
    "        #if nx.is_connected(g):\n",
    "            #avg_spl.append(nx.average_shortest_path_length(g))\n",
    "        #else:\n",
    "            #avg_spl.append(N-1)\n",
    "    Avg_deg.append(np.mean(avg_deg))\n",
    "    Avg_cls.append(np.mean(avg_cls))\n",
    "    Avg_spl.append(np.mean(avg_spl))\n",
    "    Avg_gcc.append(1.0*np.mean(avg_gcc)/N)\n",
    "#plt.plot(krange, Avg_deg, 'o-')\n",
    "#plt.title('<k>')"
   ]
  },
  {
   "cell_type": "markdown",
   "metadata": {},
   "source": [
    "最大连通集团随着平均度的变化"
   ]
  },
  {
   "cell_type": "code",
   "execution_count": 5,
   "metadata": {
    "collapsed": false
   },
   "outputs": [
    {
     "data": {
      "text/plain": [
       "<matplotlib.text.Text at 0x7fcb6ec833d0>"
      ]
     },
     "execution_count": 5,
     "metadata": {},
     "output_type": "execute_result"
    },
    {
     "data": {
      "image/png": "[encoded data removed]",
      "text/plain": [
       "<matplotlib.figure.Figure at 0x7fcb6ed16810>"
      ]
     },
     "metadata": {},
     "output_type": "display_data"
    }
   ],
   "source": [
    "## 最大连通集团\n",
    "plt.plot(krange, Avg_gcc,'o-')\n",
    "plt.plot([1,1],[0,1],'k--')\n",
    "plt.plot([np.log(N)]*2,[0,1],'g--')\n",
    "plt.xscale('log')\n",
    "plt.xlabel('average degree')\n",
    "plt.ylabel('GCC')"
   ]
  },
  {
   "cell_type": "markdown",
   "metadata": {},
   "source": [
    "集聚系数随着平均度的变化\n",
    "\n",
    "$$C = \\frac{\\langle k \\rangle}{N}$$"
   ]
  },
  {
   "cell_type": "code",
   "execution_count": 6,
   "metadata": {
    "collapsed": false
   },
   "outputs": [
    {
     "data": {
      "text/plain": [
       "<matplotlib.legend.Legend at 0x7fcb6eac49d0>"
      ]
     },
     "execution_count": 6,
     "metadata": {},
     "output_type": "execute_result"
    },
    {
     "data": {
      "image/png": "[encoded data removed]",
      "text/plain": [
       "<matplotlib.figure.Figure at 0x7fcb740ec4d0>"
      ]
     },
     "metadata": {},
     "output_type": "display_data"
    }
   ],
   "source": [
    "plt.plot(krange, Avg_cls, 'o-')\n",
    "plt.plot(krange, [k/N for k in krange], 'r--',lw=2,label=r'$\\langle k \\rangle/N$')\n",
    "plt.xlabel('average degree')\n",
    "plt.ylabel('average clustering coefficient')\n",
    "plt.legend(loc='lower right')"
   ]
  },
  {
   "cell_type": "markdown",
   "metadata": {},
   "source": [
    "最短距离随着平均度的变化\n",
    "\n",
    "在平均度比较大的情况下：\n",
    "$$d = \\frac{\\ln N}{\\ln K}$$"
   ]
  },
  {
   "cell_type": "code",
   "execution_count": 28,
   "metadata": {
    "collapsed": false
   },
   "outputs": [
    {
     "data": {
      "text/plain": [
       "[<matplotlib.lines.Line2D at 0x7f3d27635d90>]"
      ]
     },
     "execution_count": 28,
     "metadata": {},
     "output_type": "execute_result"
    },
    {
     "data": {
      "image/png": "[encoded data removed]",
      "text/plain": [
       "<matplotlib.figure.Figure at 0x7f3d27d276d0>"
      ]
     },
     "metadata": {},
     "output_type": "display_data"
    }
   ],
   "source": [
    "plt.plot(krange, Avg_spl, 'o-')\n",
    "plt.xscale('log')\n",
    "plt.xlabel('average degree')\n",
    "plt.ylabel('average shortest path length')\n",
    "plt.plot([np.log(N)]*2, [0,1000], 'r--', lw=3)\n",
    "plt.plot([1]*2, [0,1000], 'k--', lw=3)"
   ]
  },
  {
   "cell_type": "code",
   "execution_count": 26,
   "metadata": {
    "collapsed": false
   },
   "outputs": [
    {
     "name": "stderr",
     "output_type": "stream",
     "text": [
      "/usr/local/lib/python2.7/dist-packages/ipykernel/__main__.py:2: RuntimeWarning: divide by zero encountered in double_scalars\n",
      "  from ipykernel import kernelapp as app\n"
     ]
    },
    {
     "data": {
      "text/plain": [
       "<matplotlib.legend.Legend at 0x7f3d27f1e550>"
      ]
     },
     "execution_count": 26,
     "metadata": {},
     "output_type": "execute_result"
    },
    {
     "data": {
      "image/png": "[encoded data removed]",
      "text/plain": [
       "<matplotlib.figure.Figure at 0x7f3d27e51d10>"
      ]
     },
     "metadata": {},
     "output_type": "display_data"
    }
   ],
   "source": [
    "plt.plot(krange, Avg_spl, 'o-')\n",
    "plt.plot(krange, [np.log(N)/np.log(k) for k in krange], 'r--', label=r'$logN/log\\langle K\\rangle$')\n",
    "plt.xlabel('average degree')\n",
    "plt.ylabel('average shortest path length')\n",
    "plt.ylim(1,5)\n",
    "plt.legend()"
   ]
  },
  {
   "cell_type": "markdown",
   "metadata": {},
   "source": [
    "## 小世界网络相关统计\n",
    "1. 阅读Nature的WS模型的文献\n",
    "2. 用程序生成WS模型，并对其小世界特性进行计算"
   ]
  },
  {
   "cell_type": "code",
   "execution_count": null,
   "metadata": {
    "collapsed": false
   },
   "outputs": [],
   "source": [
    "N = 100 # 节点数\n",
    "m = 4 # 起始连接的最近邻数\n",
    "p = 0.1 # 断边重连概率\n",
    "\n",
    "g = nx.watts_strogatz_graph(N, m, p)"
   ]
  },
  {
   "cell_type": "markdown",
   "metadata": {},
   "source": [
    "#### 小世界特性"
   ]
  },
  {
   "cell_type": "code",
   "execution_count": 3,
   "metadata": {
    "collapsed": false
   },
   "outputs": [
    {
     "name": "stdout",
     "output_type": "stream",
     "text": [
      "125.375375375\n",
      "0.5\n"
     ]
    }
   ],
   "source": [
    "N = 1000\n",
    "m = 4\n",
    "\n",
    "g = nx.watts_strogatz_graph(N,m,0)\n",
    "d0 = nx.average_shortest_path_length(g)\n",
    "c0 = nx.average_clustering(g)\n",
    "\n",
    "print d0\n",
    "print c0"
   ]
  },
  {
   "cell_type": "code",
   "execution_count": 4,
   "metadata": {
    "collapsed": false
   },
   "outputs": [],
   "source": [
    "p = 1.0\n",
    "\n",
    "prange = []\n",
    "drange = []\n",
    "crange = []\n",
    "for i in xrange(20):\n",
    "    prange.append(p)\n",
    "    d = []\n",
    "    c = []\n",
    "    for _ in xrange(10):\n",
    "        g = nx.watts_strogatz_graph(N,m,p)\n",
    "        d.append(nx.average_shortest_path_length(g))\n",
    "        c.append(nx.average_clustering(g))\n",
    "    d = np.mean(d)\n",
    "    c = np.mean(c)\n",
    "    drange.append(d/d0)\n",
    "    crange.append(c/c0)\n",
    "    p *= 0.6"
   ]
  },
  {
   "cell_type": "code",
   "execution_count": 5,
   "metadata": {
    "collapsed": false
   },
   "outputs": [
    {
     "data": {
      "text/plain": [
       "<matplotlib.text.Text at 0x7ff1e5801710>"
      ]
     },
     "execution_count": 5,
     "metadata": {},
     "output_type": "execute_result"
    },
    {
     "data": {
      "image/png": "[encoded data removed]",
      "text/plain": [
       "<matplotlib.figure.Figure at 0x7ff1e5a64b10>"
      ]
     },
     "metadata": {},
     "output_type": "display_data"
    }
   ],
   "source": [
    "plt.figure(figsize=(8,4))\n",
    "plt.subplot(1,2,1)\n",
    "plt.plot(prange, drange, 'go', label='spl')\n",
    "plt.plot(prange, crange, 'bs', ms=8,markeredgecolor='b',markerfacecolor='none',label='cls')\n",
    "plt.xlim(2e-5,2)\n",
    "plt.ylim(0,1.05)\n",
    "plt.xscale('log')\n",
    "plt.legend(loc='lower left',numpoints=1)\n",
    "plt.xlabel('p', fontsize=14)\n",
    "\n",
    "plt.subplot(1,2,2)\n",
    "ratio = [crange[i]/drange[i] for i in xrange(len(crange))]\n",
    "plt.plot(prange, ratio, 'go',label=r'$C/d$')\n",
    "plt.xlim(2e-5,2)\n",
    "#plt.ylim(0,1.05)\n",
    "plt.xscale('log')\n",
    "plt.legend(loc='upper left',numpoints=1)\n",
    "plt.xlabel('p', fontsize=14)"
   ]
  },
  {
   "cell_type": "markdown",
   "metadata": {},
   "source": [
    "#### 空手道俱乐部的小世界特性分析"
   ]
  },
  {
   "cell_type": "code",
   "execution_count": 4,
   "metadata": {
    "collapsed": false
   },
   "outputs": [
    {
     "name": "stdout",
     "output_type": "stream",
     "text": [
      "avgerage SPL: 2.40819964349\n",
      "avgerage C: 0.570638478208\n"
     ]
    }
   ],
   "source": [
    "## import network\n",
    "G = nx.karate_club_graph()\n",
    "\n",
    "## basic stats\n",
    "N = G.number_of_nodes()\n",
    "L = G.number_of_edges()\n",
    "\n",
    "avg_dist = nx.average_shortest_path_length(G)\n",
    "avg_clus = nx.average_clustering(G)\n",
    "\n",
    "print 'avgerage SPL:',avg_dist\n",
    "print 'avgerage C:',avg_clus"
   ]
  },
  {
   "cell_type": "markdown",
   "metadata": {},
   "source": [
    "\n",
    "与其随机换边后结果的比较(随机网络是相同节点和边数量的随机网):"
   ]
  },
  {
   "cell_type": "code",
   "execution_count": 17,
   "metadata": {
    "collapsed": false
   },
   "outputs": [
    {
     "name": "stdout",
     "output_type": "stream",
     "text": [
      "34 4.58823529412\n",
      "avgerage SPL: 2.83795008913\n",
      "avgerage C: 0.128854362957\n"
     ]
    }
   ],
   "source": [
    "## stats of the random shuffled networks\n",
    "avg_dist_r = []\n",
    "avg_clus_r = []\n",
    "\n",
    "#print N,2.0*L/N\n",
    "for _ in xrange(100):\n",
    "    g = nx.generators.random_graphs.gnm_random_graph(n=N,m=L,directed=False)\n",
    "    avg_dist_r.append(spl_2(g))\n",
    "    avg_clus_r.append(nx.average_clustering(g))\n",
    "#    if nx.is_connected(g):\n",
    "#        avg_dist_r.append(nx.average_shortest_path_length(g))\n",
    "#        avg_clus_r.append(nx.average_clustering(g))\n",
    "#    else:\n",
    "#        continue\n",
    "\n",
    "    \n",
    "avg_dist_r = np.mean(avg_dist_r)\n",
    "avg_clus_r = np.mean(avg_clus_r)\n",
    "\n",
    "\n",
    "print 'avgerage SPL:',avg_dist_r\n",
    "print 'avgerage C:',avg_clus_r\n",
    "\n"
   ]
  },
  {
   "cell_type": "markdown",
   "metadata": {},
   "source": [
    "集聚系数相比于随机化的情况大很多。\n",
    "\n",
    "| | N| < k \\>| L | L_random | C | C_random |\n",
    "|:--:|:---:|:---:|:--:|:--:|:--:|:--:|\n",
    "|karate| 34 | 4.5 | 2.4 | 2.84 | 0.57 | 0.13| "
   ]
  },
  {
   "cell_type": "markdown",
   "metadata": {},
   "source": [
    "## 无标度网络\n",
    "\n",
    "无标度网络指 网络的度分布 服从幂律分布。\n",
    "\n",
    "$$p(k) \\propto k^{-\\alpha}$$\n",
    "\n",
    "\n",
    "本章练习与作业\n",
    "1. 拟合一个实际网络的度分布是否是幂律的？\n",
    "2. 阅读BA模型的文献;用程序生成一个BA模型，并且拟合度分布及幂律指数"
   ]
  },
  {
   "cell_type": "markdown",
   "metadata": {},
   "source": [
    "### 以科学家合作网为例\n",
    "\n",
    "原始数据以‘文章编号 作者编号’的形式给出连边数据，读入网络数据后，会得到一个二分网络(bipartite)。\n",
    "\n",
    "**二分网络(bipartite): 存在两类节点，连边只存在于同类节点间。**"
   ]
  },
  {
   "cell_type": "code",
   "execution_count": 18,
   "metadata": {
    "collapsed": false
   },
   "outputs": [
    {
     "name": "stdout",
     "output_type": "stream",
     "text": [
      "1992\n"
     ]
    }
   ],
   "source": [
    "## 读取网络链接数据\n",
    "\n",
    "edgelist = []\n",
    "authors = []\n",
    "papers = []\n",
    "with open('./data/paperauthorId.txt', 'r') as fr:\n",
    "    for line in fr:\n",
    "        p,a = line.strip().split('\\t')\n",
    "        edgelist.append(('p'+p, 'a'+a))\n",
    "        authors.append('a'+a)\n",
    "        papers.append('p'+p)\n",
    "\n",
    "B = nx.Graph()\n",
    "B.add_edges_from(edgelist)\n",
    "\n",
    "\n",
    "authors = list(set(authors))\n",
    "print len(authors)\n",
    "#B = nx.read_edgelist('paperauthorId',create_using=nx.Graph(), nodetype=int)"
   ]
  },
  {
   "cell_type": "code",
   "execution_count": 19,
   "metadata": {
    "collapsed": false
   },
   "outputs": [
    {
     "name": "stdout",
     "output_type": "stream",
     "text": [
      "节点数: 4004\n",
      "边数: 5240\n"
     ]
    }
   ],
   "source": [
    "print '节点数:',B.number_of_nodes()\n",
    "print '边数:',B.number_of_edges()"
   ]
  },
  {
   "cell_type": "markdown",
   "metadata": {},
   "source": [
    "查看网络是否为二分网\n",
    "```python\n",
    "nx.is_bipartite(G)\n",
    "```\n",
    "\n",
    "关于二分网络的其它操作，可以参考[说明文档](https://networkx.readthedocs.io/en/stable/reference/algorithms.bipartite.html)"
   ]
  },
  {
   "cell_type": "code",
   "execution_count": 20,
   "metadata": {
    "collapsed": false
   },
   "outputs": [
    {
     "name": "stdout",
     "output_type": "stream",
     "text": [
      "True\n"
     ]
    }
   ],
   "source": [
    "print nx.is_bipartite(B)"
   ]
  },
  {
   "cell_type": "markdown",
   "metadata": {},
   "source": [
    "接下来查看作者合作网络的度分布。\n",
    "首先需要将二分网映射为作者合作网。\n",
    "\n",
    "```python\n",
    "nx.algorithms.bipartite.projected_graph(B, nodes=authors)\n",
    "```"
   ]
  },
  {
   "cell_type": "code",
   "execution_count": 21,
   "metadata": {
    "collapsed": false
   },
   "outputs": [
    {
     "name": "stdout",
     "output_type": "stream",
     "text": [
      "节点数: 1992\n",
      "边数: 3485\n"
     ]
    }
   ],
   "source": [
    "## 将二分网映射为作者合作网\n",
    "\n",
    "g = nx.algorithms.bipartite.projected_graph(B, nodes=authors)\n",
    "\n",
    "#g= list(nx.connected_component_subgraphs(g))[0]\n",
    "print '节点数:',g.number_of_nodes()\n",
    "print '边数:',g.number_of_edges()\n"
   ]
  },
  {
   "cell_type": "code",
   "execution_count": 22,
   "metadata": {
    "collapsed": false
   },
   "outputs": [
    {
     "name": "stdout",
     "output_type": "stream",
     "text": [
      "[126, 404, 468, 331, 233, 124, 87, 47, 49, 24, 18, 11, 9, 7, 8, 13, 1, 4, 2, 2, 1, 2, 2, 4, 3, 2, 2, 1, 0, 1, 2, 0, 2, 0, 0, 1, 0, 0, 0, 0, 0, 0, 0, 0, 0, 0, 0, 0, 0, 0, 0, 0, 0, 0, 0, 0, 0, 0, 0, 0, 0, 0, 0, 0, 0, 0, 0, 0, 0, 0, 0, 0, 0, 0, 1]\n"
     ]
    },
    {
     "data": {
      "text/plain": [
       "<matplotlib.text.Text at 0x1127fd6d0>"
      ]
     },
     "execution_count": 22,
     "metadata": {},
     "output_type": "execute_result"
    },
    {
     "data": {
      "image/png": "[encoded data removed]",
      "text/plain": [
       "<matplotlib.figure.Figure at 0x11226e990>"
      ]
     },
     "metadata": {},
     "output_type": "display_data"
    }
   ],
   "source": [
    "## degree of each nodes\n",
    "deg_dist = nx.degree_histogram(g)\n",
    "print deg_dist\n",
    "\n",
    "author_deg = g.degree().values()\n",
    "plt.loglog(range(0, len(deg_dist)), deg_dist, 'o')\n",
    "plt.xlabel('degree')\n",
    "plt.ylabel('frequency')\n"
   ]
  },
  {
   "cell_type": "markdown",
   "metadata": {},
   "source": [
    "#### 非等间距分箱"
   ]
  },
  {
   "cell_type": "code",
   "execution_count": 23,
   "metadata": {
    "collapsed": false
   },
   "outputs": [
    {
     "name": "stdout",
     "output_type": "stream",
     "text": [
      "-3.09583565953 9.88153928644\n"
     ]
    },
    {
     "data": {
      "text/plain": [
       "<matplotlib.legend.Legend at 0x1138edb90>"
      ]
     },
     "execution_count": 23,
     "metadata": {},
     "output_type": "execute_result"
    },
    {
     "data": {
      "image/png": "[encoded data removed]",
      "text/plain": [
       "<matplotlib.figure.Figure at 0x1133d3790>"
      ]
     },
     "metadata": {},
     "output_type": "display_data"
    }
   ],
   "source": [
    "## 非等间距分箱\n",
    "\n",
    "x = []\n",
    "y = []\n",
    "\n",
    "max_k = len(deg_dist)\n",
    "\n",
    "k0 = 1\n",
    "dk = 1.6\n",
    "while k0<=len(deg_dist):\n",
    "    k1 = k0*dk\n",
    "    n=sum([deg_dist[k] for k in xrange(max_k) if k0<=k<k1])\n",
    "    m = sum([k*deg_dist[k] for k in xrange(max_k) if k0<=k<k1])\n",
    "    if n>0:\n",
    "        x.append(1.0*m/n)\n",
    "        y.append(n/max(1,(k1-k0)))\n",
    "    k0 = k1\n",
    "\n",
    "plt.loglog(x,y,'ro')\n",
    "\n",
    "ln_x = np.log(x[2:])\n",
    "ln_y = np.log(y[2:])\n",
    "A = np.vstack([ln_x, np.ones(len(ln_x))]).T\n",
    "m,c = np.linalg.lstsq(A,ln_y)[0]\n",
    "print m,c\n",
    "plt.plot(np.e**ln_x,np.e**(m*ln_x+c), 'k-',label=r'$\\gamma=%s$'%(round(-m,2)))\n",
    "\n",
    "plt.loglog(range(0, len(deg_dist)), deg_dist, 's', markerfacecolor='gray', markeredgecolor='none', zorder=-10)\n",
    "plt.xlabel('degree')\n",
    "plt.ylabel('frequency')\n",
    "plt.legend()"
   ]
  },
  {
   "cell_type": "markdown",
   "metadata": {},
   "source": [
    "#### 累积分布"
   ]
  },
  {
   "cell_type": "code",
   "execution_count": 24,
   "metadata": {
    "collapsed": false
   },
   "outputs": [
    {
     "name": "stdout",
     "output_type": "stream",
     "text": [
      "-2.03342141558 9.29226091006\n"
     ]
    },
    {
     "data": {
      "text/plain": [
       "<matplotlib.legend.Legend at 0x11257fd50>"
      ]
     },
     "execution_count": 24,
     "metadata": {},
     "output_type": "execute_result"
    },
    {
     "data": {
      "image/png": "[encoded data removed]",
      "text/plain": [
       "<matplotlib.figure.Figure at 0x1137e9e50>"
      ]
     },
     "metadata": {},
     "output_type": "display_data"
    }
   ],
   "source": [
    "##累积分布\n",
    "degree = nx.degree(g)\n",
    "degree = degree.values()\n",
    "distKeys = set(degree)\n",
    "pdf = dict([(k,0) for k in distKeys])\n",
    "for k in degree:\n",
    "    pdf[k] += 1\n",
    "\n",
    "cdf = dict([(k,0) for k in set(degree)])\n",
    "for k in set(degree):\n",
    "    cdf[k] = sum(np.array(degree)>=k)\n",
    "    \n",
    "plt.loglog(cdf.keys(), cdf.values(), 'o')\n",
    "x = np.array([k for k in xrange(3,18)])\n",
    "y = np.array([cdf[k] for k in xrange(3,18)])\n",
    "\n",
    "x = np.log(x)\n",
    "y = np.log(y)\n",
    "A = np.vstack([x, np.ones(len(x))]).T\n",
    "m,c = np.linalg.lstsq(A,y)[0]\n",
    "print m,c\n",
    "plt.plot(np.e**x,np.e**(m*x+c), 'k-',label=r'$\\gamma=%s$'%(round(-m,2)))\n",
    "plt.xlabel('k')\n",
    "plt.ylabel('P(x>=k)')\n",
    "plt.legend()"
   ]
  },
  {
   "cell_type": "markdown",
   "metadata": {},
   "source": [
    "### BA无标度网络\n",
    "\n",
    "两个机制\n",
    "- 偏好依附\n",
    "- 生长机制\n",
    "\n",
    "\n",
    "networkx 中BA网络产生\n",
    "```python\n",
    "barabasi_albert_graph(N, m) #N 节点数，m 每次添边的数量\n",
    "```"
   ]
  },
  {
   "cell_type": "code",
   "execution_count": 36,
   "metadata": {
    "collapsed": false
   },
   "outputs": [],
   "source": [
    "g = nx.barabasi_albert_graph(50000, 3)\n",
    "\n",
    "deg_dist = nx.degree_histogram(g)\n",
    "degree = nx.degree(g)\n",
    "del g"
   ]
  },
  {
   "cell_type": "markdown",
   "metadata": {},
   "source": [
    "#### 幂律指数拟合"
   ]
  },
  {
   "cell_type": "markdown",
   "metadata": {},
   "source": [
    "##### 非等间距分箱"
   ]
  },
  {
   "cell_type": "code",
   "execution_count": 43,
   "metadata": {
    "collapsed": false
   },
   "outputs": [
    {
     "name": "stdout",
     "output_type": "stream",
     "text": [
      "-2.82059977886 13.171173161\n"
     ]
    },
    {
     "data": {
      "text/plain": [
       "<matplotlib.legend.Legend at 0x113f88e90>"
      ]
     },
     "execution_count": 43,
     "metadata": {},
     "output_type": "execute_result"
    },
    {
     "data": {
      "image/png": "[encoded data removed]",
      "text/plain": [
       "<matplotlib.figure.Figure at 0x114324750>"
      ]
     },
     "metadata": {},
     "output_type": "display_data"
    }
   ],
   "source": [
    "## 非等间距分箱\n",
    "\n",
    "x = []\n",
    "y = []\n",
    "\n",
    "max_k = len(deg_dist)\n",
    "\n",
    "k0 = 1\n",
    "dk = 1.6\n",
    "while k0<=len(deg_dist):\n",
    "    k1 = k0*dk\n",
    "    n=sum([deg_dist[k] for k in xrange(max_k) if k0<=k<k1])\n",
    "    m = sum([k*deg_dist[k] for k in xrange(max_k) if k0<=k<k1])\n",
    "    if n>0:\n",
    "        x.append(1.0*m/n)\n",
    "        y.append(n/max(1,(k1-k0)))\n",
    "    k0 = k1\n",
    "\n",
    "plt.loglog(x,y,'o')\n",
    "\n",
    "ln_x = np.log(x[:])\n",
    "ln_y = np.log(y[:])\n",
    "A = np.vstack([ln_x, np.ones(len(ln_x))]).T\n",
    "m,c = np.linalg.lstsq(A,ln_y)[0]\n",
    "print m,c\n",
    "plt.plot(np.e**ln_x,np.e**(m*ln_x+c), 'k-',label=r'$\\gamma=%s$'%(round(-m,2)))\n",
    "\n",
    "plt.loglog(range(0, len(deg_dist)), deg_dist, 's', markerfacecolor='gray', markeredgecolor='none', zorder=-10)\n",
    "plt.xlabel('degree')\n",
    "plt.ylabel('frequency')\n",
    "plt.legend()"
   ]
  },
  {
   "cell_type": "markdown",
   "metadata": {},
   "source": [
    "##### 累积分布"
   ]
  },
  {
   "cell_type": "code",
   "execution_count": 38,
   "metadata": {
    "collapsed": false
   },
   "outputs": [
    {
     "name": "stdout",
     "output_type": "stream",
     "text": [
      "-1.90506175947 12.9141190343\n"
     ]
    },
    {
     "data": {
      "text/plain": [
       "<matplotlib.legend.Legend at 0x10d41e110>"
      ]
     },
     "execution_count": 38,
     "metadata": {},
     "output_type": "execute_result"
    },
    {
     "data": {
      "image/png": "[encoded data removed]",
      "text/plain": [
       "<matplotlib.figure.Figure at 0x110af0110>"
      ]
     },
     "metadata": {},
     "output_type": "display_data"
    }
   ],
   "source": [
    "##累积分布\n",
    "degree = degree.values()\n",
    "distKeys = set(degree)\n",
    "pdf = dict([(k,0) for k in distKeys])\n",
    "for k in degree:\n",
    "    pdf[k] += 1\n",
    "\n",
    "cdf = dict([(k,0) for k in set(degree)])\n",
    "for k in set(degree):\n",
    "    cdf[k] = sum(np.array(degree)>=k)\n",
    "    \n",
    "plt.loglog(cdf.keys(), cdf.values(), 'o')\n",
    "x = np.array([k for k in cdf])\n",
    "y = np.array([cdf[k] for k in cdf])\n",
    "\n",
    "x = np.log(x)\n",
    "y = np.log(y)\n",
    "A = np.vstack([x, np.ones(len(x))]).T\n",
    "m,c = np.linalg.lstsq(A,y)[0]\n",
    "print m,c\n",
    "plt.plot(np.e**x,np.e**(m*x+c), 'k-',label=r'$\\gamma=%s$'%(round(-m,2)))\n",
    "plt.xlabel('k')\n",
    "plt.ylabel('P(x>=k)')\n",
    "plt.legend()"
   ]
  },
  {
   "cell_type": "markdown",
   "metadata": {},
   "source": [
    "- BA网络的幂指数与网络规模的关系？\n",
    "- 每次加边的时候采用同时加边或者依次加边，有什么区别？"
   ]
  },
  {
   "cell_type": "markdown",
   "metadata": {},
   "source": [
    "更加严谨的关于幂律分布的拟合可以参考[Power-law distributions in empirical data](http://tuvalu.santafe.edu/~aaronc/powerlaws/)\n",
    "\n",
    "- A. Clauset, C.R. Shalizi, and M.E.J. Newman, \"Power-law distributions in empirical data\" SIAM Review 51, 661-703 (2009). (arXiv:0706.1062)\n",
    "\n",
    "\n",
    "提供了相应的matlab、R、python([plfit](https://pypi.python.org/pypi/plfit))的幂律拟合的代码。\n",
    "\n",
    "\n",
    "还可以使用[powerlaw](https://pypi.python.org/pypi/powerlaw)这个包，[paper](http://journals.plos.org/plosone/article?id=10.1371/journal.pone.0085777)和[documentation](http://pythonhosted.org/powerlaw/)\n",
    "\n",
    "- Jeff Alstott, Ed Bullmore, Dietmar Plenz. (2014). powerlaw: a Python package for analysis of heavy-tailed distributions. PLoS ONE 9(1): e85777"
   ]
  },
  {
   "cell_type": "markdown",
   "metadata": {},
   "source": [
    "使用'powerlaw'进行对BA网络进行幂律拟合"
   ]
  },
  {
   "cell_type": "code",
   "execution_count": 40,
   "metadata": {
    "collapsed": false
   },
   "outputs": [
    {
     "name": "stdout",
     "output_type": "stream",
     "text": [
      "alpha: 3.05417943468\n",
      "x-min: 24.0\n",
      "D: 0.0189453708366\n"
     ]
    },
    {
     "name": "stderr",
     "output_type": "stream",
     "text": [
      "Calculating best minimal value for power law fit\n"
     ]
    },
    {
     "data": {
      "text/plain": [
       "<matplotlib.axes._subplots.AxesSubplot at 0x110f23c50>"
      ]
     },
     "execution_count": 40,
     "metadata": {},
     "output_type": "execute_result"
    },
    {
     "data": {
      "image/png": "[encoded data removed]",
      "text/plain": [
       "<matplotlib.figure.Figure at 0x110d45310>"
      ]
     },
     "metadata": {},
     "output_type": "display_data"
    }
   ],
   "source": [
    "import powerlaw\n",
    "fit = powerlaw.Fit(degree)\n",
    "print 'alpha:',fit.power_law.alpha\n",
    "print 'x-min:',fit.power_law.xmin\n",
    "print 'D:',fit.power_law.D\n",
    "fit.plot_pdf(color='r')\n",
    "fit.power_law.plot_pdf(color='b',linestyle='-')\n",
    "#powerlaw.plot_pdf(degree, linear_bins = True, color = 'r')"
   ]
  },
  {
   "cell_type": "markdown",
   "metadata": {},
   "source": [
    "与其它分布的拟合比较\n",
    "```python\n",
    "R,p = fit.distribution_compare('power_law', 'lognormal_positive')\n",
    "```\n",
    "> R is the loglikelihood ratio between the two candidate distributions. This number will be positive if the data is more likely in the first distribution, and negative if the data is more likely in the second distribution. The significance value for that direction is p. "
   ]
  },
  {
   "cell_type": "code",
   "execution_count": 72,
   "metadata": {
    "collapsed": false
   },
   "outputs": [
    {
     "name": "stdout",
     "output_type": "stream",
     "text": [
      "4.25085336762 2.12957559924e-05\n",
      "6.1123509519 9.81739860788e-10\n"
     ]
    },
    {
     "name": "stderr",
     "output_type": "stream",
     "text": [
      "/Users/bnu123/anaconda/lib/python2.7/site-packages/powerlaw.py:692: RuntimeWarning: divide by zero encountered in divide\n",
      "  (Theoretical_CDF * (1 - Theoretical_CDF))\n"
     ]
    }
   ],
   "source": [
    "R, p = fit.distribution_compare('power_law', 'lognormal_positive',normalized_ratio=True)\n",
    "print R,p\n",
    "R, p = fit.distribution_compare('power_law', 'exponential',normalized_ratio=True)\n",
    "print R,p"
   ]
  },
  {
   "cell_type": "markdown",
   "metadata": {},
   "source": [
    "在作者合作网络上的尝试"
   ]
  },
  {
   "cell_type": "code",
   "execution_count": 73,
   "metadata": {
    "collapsed": false
   },
   "outputs": [
    {
     "name": "stdout",
     "output_type": "stream",
     "text": [
      "alpha: 6.11838915264\n",
      "x-min: 23.0\n",
      "D: 0.0631181485171\n",
      "1.29790637989 0.194319507489\n",
      "1.53509638389 0.124760154422\n"
     ]
    },
    {
     "name": "stderr",
     "output_type": "stream",
     "text": [
      "Values less than or equal to 0 in data. Throwing out 0 or negative values\n",
      "Calculating best minimal value for power law fit\n"
     ]
    }
   ],
   "source": [
    "fit = powerlaw.Fit(author_deg)\n",
    "print 'alpha:',fit.power_law.alpha\n",
    "print 'x-min:',fit.power_law.xmin\n",
    "print 'D:',fit.power_law.D\n",
    "R, p = fit.distribution_compare('power_law', 'lognormal_positive',normalized_ratio=True)\n",
    "print R,p\n",
    "R, p = fit.distribution_compare('power_law', 'exponential',normalized_ratio=True)\n",
    "print R,p"
   ]
  },
  {
   "cell_type": "markdown",
   "metadata": {},
   "source": [
    "## 网络中的度度相关（匹配性）\n",
    "\n",
    "衡量度度相关性的方法有:\n",
    "    - degree correlation matrix (Maslov and Sneppen, Science 2001)\n",
    "    - degree correlation function (Pastor Satorras and Vespignani, PRL 2001)\n",
    "    - degree correlation coefficient (Newman, PRL 2002)\n",
    "参考文献:\n",
    "1. Maslov S, Sneppen K. Specificity and stability in topology of protein networks[J]. Science, 2002, 296(5569): 910-913.\n",
    "2. Pastor-Satorras R, Vázquez A, Vespignani A. Dynamical and correlation properties of the Internet[J]. Physical review letters, 2001, 87(25): 258701.\n",
    "2. Vázquez A, Pastor-Satorras R, Vespignani A. Large-scale topological and dynamical properties of the Internet[J]. Physical Review E, 2002, 65(6): 066130.\n",
    "3. Newman M E J. Assortative mixing in networks[J]. Physical review letters, 2002, 89(20): 208701\n",
    "\n",
    "作业:\n",
    "1. 请选择一个实际网络，用三种方式来看网络的匹配性\n",
    "2. 对上一张生成的BA网络，看网络的匹配性\n",
    "3. 阅读Newman相关文献，并思考：Newman所提指标与计算度的pearson相关系数间的关系"
   ]
  },
  {
   "cell_type": "markdown",
   "metadata": {},
   "source": [
    "### 实际网络示例"
   ]
  },
  {
   "cell_type": "code",
   "execution_count": 15,
   "metadata": {
    "collapsed": false
   },
   "outputs": [],
   "source": [
    "# 科学家合作网\n",
    "g_coll = nx.read_edgelist('./data/N1461_Coauthorships', create_using=nx.Graph())\n",
    "\n",
    "# neural network\n",
    "g_neur = nx.read_edgelist('./data/N297_Celegans_neural', create_using=nx.Graph())"
   ]
  },
  {
   "cell_type": "markdown",
   "metadata": {},
   "source": [
    "#### 度相关性矩阵 (degree correlation matrix)\n",
    "$$E(k_0,k_1) = P(k_0,k_1)$$\n",
    "$$C(k_0,k_1) = \\frac{P(k_0,k_1)}{P_r(k_0,k_1)}$$\n"
   ]
  },
  {
   "cell_type": "code",
   "execution_count": 16,
   "metadata": {
    "collapsed": false
   },
   "outputs": [
    {
     "data": {
      "text/plain": [
       "<matplotlib.text.Text at 0x111ccae50>"
      ]
     },
     "execution_count": 16,
     "metadata": {},
     "output_type": "execute_result"
    },
    {
     "data": {
      "image/png": "[encoded data removed]",
      "text/plain": [
       "<matplotlib.figure.Figure at 0x10ff3c6d0>"
      ]
     },
     "metadata": {},
     "output_type": "display_data"
    }
   ],
   "source": [
    "## Degree Correlation Matrix\n",
    "def cal_correlation_matrix(g):\n",
    "    degs = g.degree()\n",
    "    max_k = max(degs.values())\n",
    "    emat = np.zeros((max_k+1, max_k+1))\n",
    "    cmat = np.zeros((max_k+1, max_k+1))\n",
    "    L = g.number_of_edges()\n",
    "    for i,j in g.edges():\n",
    "        ki = degs[i]\n",
    "        kj = degs[j]\n",
    "        emat[ki,kj] += 1.0/2/L\n",
    "        emat[kj,ki] += 1.0/2/L\n",
    "        cmat[ki,kj] += 2.0*L/ki/kj\n",
    "        cmat[kj,ki] += 2.0*L/ki/kj\n",
    "    return emat,cmat\n",
    "\n",
    "\n",
    "\n",
    "\n",
    "emat_coll,cmat_coll = cal_correlation_matrix(g_coll)\n",
    "emat_neur,cmat_neur = cal_correlation_matrix(g_neur)\n",
    "\n",
    "plt.figure(figsize=(8,8))\n",
    "plt.subplot(2,2,1)\n",
    "plt.title('author collaboration')\n",
    "plt.imshow(emat_coll, cmap = 'Reds')\n",
    "plt.xlabel(r'$k_0$')\n",
    "plt.ylabel(r'$k_1$')\n",
    "\n",
    "plt.subplot(2,2,3)\n",
    "#plt.title('author collaboration')\n",
    "plt.imshow(cmat_coll, cmap = 'Reds')\n",
    "plt.xlabel(r'$k_0$')\n",
    "plt.ylabel(r'$k_1$')\n",
    "\n",
    "\n",
    "#plt.ylim(max_k, 0)\n",
    "\n",
    "plt.subplot(2,2,2)\n",
    "plt.title('c.elegans')\n",
    "plt.imshow(emat_neur, cmap = 'Reds')\n",
    "plt.xlabel(r'$k_0$')\n",
    "\n",
    "plt.subplot(2,2,4)\n",
    "plt.imshow(cmat_neur, cmap = 'Reds')\n",
    "plt.xlabel(r'$k_0$')"
   ]
  },
  {
   "cell_type": "markdown",
   "metadata": {},
   "source": [
    "展现出了完全不同的性质。"
   ]
  },
  {
   "cell_type": "markdown",
   "metadata": {},
   "source": [
    "#### 度相关性函数(Degree Correlation Function)\n",
    "\n",
    "$$k_{nn}(k) \\equiv  \\sum_{k'} k'P(k'|k)$$\n",
    "\n",
    "Scaling Hypothesis\n",
    "$$k_{nn}(k) \\sim k^{\\mu}$$\n",
    "\n",
    "- $\\mu<0$: Disassortative\n",
    "- $\\mu=0$: Neutral\n",
    "- $\\mu>0$: Assortative"
   ]
  },
  {
   "cell_type": "code",
   "execution_count": 17,
   "metadata": {
    "collapsed": false
   },
   "outputs": [
    {
     "name": "stdout",
     "output_type": "stream",
     "text": [
      "$\\mu$: 0.306116651004\n",
      "$\\mu$: -0.271482593959\n"
     ]
    },
    {
     "data": {
      "text/plain": [
       "<matplotlib.text.Text at 0x1120d1f50>"
      ]
     },
     "execution_count": 17,
     "metadata": {},
     "output_type": "execute_result"
    },
    {
     "data": {
      "image/png": "[encoded data removed]",
      "text/plain": [
       "<matplotlib.figure.Figure at 0x10fbeaa50>"
      ]
     },
     "metadata": {},
     "output_type": "display_data"
    }
   ],
   "source": [
    "## Degree Correlation Function\n",
    "\n",
    "def cal_correlation_function(g):\n",
    "    annd = nx.average_neighbor_degree(g)\n",
    "    deg = nx.degree(g)\n",
    "\n",
    "    plt.loglog(deg.values(), annd.values(), 'o',c='gray', alpha=0.3)\n",
    "\n",
    "\n",
    "    x = {}\n",
    "    for i in deg:\n",
    "        if deg[i] in x:\n",
    "            x[deg[i]].append(annd[i])\n",
    "        else:\n",
    "            x[deg[i]] = [annd[i]]\n",
    "\n",
    "    x = {i:np.mean(x[i]) for i in x}\n",
    "    plt.loglog(x.keys(), x.values(), 'rs')\n",
    "    # calculate the powerlaw index\n",
    "    xk = np.log(np.array(x.keys()))\n",
    "    yann = np.log(np.array(x.values()))\n",
    "    A = np.vstack([xk, np.ones(len(xk))]).T\n",
    "    m,c = np.linalg.lstsq(A,yann)[0]\n",
    "    print r'$\\mu$:',m\n",
    "    plt.plot(np.e**xk,np.e**(m*xk+c), 'k-',label=r'$\\gamma=%s$'%(round(-m,2)))\n",
    "\n",
    "\n",
    "plt.figure(figsize=(8,4))\n",
    "plt.subplot(1,2,1)\n",
    "plt.title('author collaboration')\n",
    "cal_correlation_function(g_coll)\n",
    "plt.xlabel('k')\n",
    "plt.ylabel(r'$k_{nn}$',fontsize=14)\n",
    "\n",
    "plt.subplot(1,2,2)\n",
    "plt.title('c.elegans')\n",
    "cal_correlation_function(g_neur)\n",
    "plt.xlabel('k')"
   ]
  },
  {
   "cell_type": "markdown",
   "metadata": {},
   "source": [
    "#### 匹配性系数 (degree correlation coefficient)\n",
    "\n",
    "degree-degree correlation\n",
    "$$\\langle jk \\rangle - \\langle j \\rangle \\langle k \\rangle=\\sum_{jk}jk e_{jk} - \\sum_j jq_j \\sum_k kq_k=\\sum_{jk}jk(e_{jk}-q_jq_k)$$\n",
    "\n",
    "为了使得不同情况下可比，除以相关性最大值，即完美匹配的情况:$e_{jk}=q_k\\delta_{jk}$，恰好为$q_k$的方差$\\sigma^2= \\sum_k k^2q^2_k -[\\sum_k kq_k]^2$。\n",
    "\n",
    "最终得到\n",
    "$$r = \\sum_{jk}\\frac{jk(e_{jk} - q_jq_k)}{\\sigma^2}$$\n",
    "\n",
    "- $r<0$: Disassortative\n",
    "- $r=0$: Neutral\n",
    "- $r>0$: Assortative\n",
    "\n",
    "\n",
    "在networkx中可以用\n",
    "```python\n",
    "nx.assortativity.degree_assortativity_coefficient(g)\n",
    "```\n",
    "实现。"
   ]
  },
  {
   "cell_type": "code",
   "execution_count": 4,
   "metadata": {
    "collapsed": false
   },
   "outputs": [
    {
     "name": "stdout",
     "output_type": "stream",
     "text": [
      "0.461622466753\n",
      "0.461622466753\n",
      "-0.163199210316\n"
     ]
    }
   ],
   "source": [
    "## newman's assortativity coefficient\n",
    "print nx.assortativity.degree_assortativity_coefficient(g_coll)\n",
    "print nx.degree_pearson_correlation_coefficient(g_coll)\n",
    "\n",
    "print nx.assortativity.degree_assortativity_coefficient(g_neur)"
   ]
  },
  {
   "cell_type": "markdown",
   "metadata": {},
   "source": [
    "### BA网络匹配性分析"
   ]
  },
  {
   "cell_type": "code",
   "execution_count": 20,
   "metadata": {
    "collapsed": false
   },
   "outputs": [],
   "source": [
    "## BA网络\n",
    "\n",
    "g_ba = nx.barabasi_albert_graph(50000, 2)"
   ]
  },
  {
   "cell_type": "code",
   "execution_count": 21,
   "metadata": {
    "collapsed": false
   },
   "outputs": [
    {
     "name": "stdout",
     "output_type": "stream",
     "text": [
      "$\\mu$: -0.0759376020298\n",
      "r: -0.0226036322695\n"
     ]
    },
    {
     "data": {
      "image/png": "[encoded data removed]",
      "text/plain": [
       "<matplotlib.figure.Figure at 0x1124f9fd0>"
      ]
     },
     "metadata": {},
     "output_type": "display_data"
    }
   ],
   "source": [
    "## Degree Correlation Matrix\n",
    "emat_ba,cmat_ba = cal_correlation_matrix(g_ba)\n",
    "\n",
    "plt.figure(figsize=(11,4))\n",
    "plt.subplot(1,3,1)\n",
    "plt.imshow(emat_ba, cmap = 'afmhot')\n",
    "\n",
    "plt.subplot(1,3,2)\n",
    "plt.imshow(cmat_ba, cmap = 'afmhot')\n",
    "\n",
    "## Degree Correlation Function\n",
    "plt.subplot(1,3,3)\n",
    "plt.title('BA network')\n",
    "cal_correlation_function(g_ba)\n",
    "plt.xlabel('k')\n",
    "plt.ylabel(r'$k_{ann}$')\n",
    "\n",
    "\n",
    "## newman's assortativity coefficient\n",
    "print 'r:',nx.assortativity.degree_assortativity_coefficient(g_ba)"
   ]
  },
  {
   "cell_type": "markdown",
   "metadata": {},
   "source": [
    "说明BA网络基本没有匹配性(neutral)。\n",
    "\n",
    "采用Pearson相关性的方式，可以看系数的显著性。"
   ]
  },
  {
   "cell_type": "markdown",
   "metadata": {},
   "source": [
    "## 网络社团划分\n",
    "\n",
    "\n",
    "### GN benchmark\n",
    "\n",
    "GN模型是常用的含有社团结构的网络模型。给定网络的节点数N，社团数C，社团内的平均连接度zin，社团间的平均连接度zout。"
   ]
  },
  {
   "cell_type": "code",
   "execution_count": 3,
   "metadata": {
    "collapsed": false
   },
   "outputs": [],
   "source": [
    "## GN benchmark\n",
    "import random\n",
    "\n",
    "N = 126  # 网络规模\n",
    "C = 3    # 社团数量\n",
    "zin = 13 #社团内的连边数\n",
    "zout = 3 #社团间的连边数\n",
    "\n",
    "\n",
    "n = N/C # 每个社团的节点数\n",
    "\n",
    "nodes = []\n",
    "nall = []\n",
    "for a in ['a','b','c']:\n",
    "    xx = []\n",
    "    for i in xrange(n):\n",
    "        xx.append(a+str(i))\n",
    "    nodes += xx\n",
    "    nall.append(xx)\n",
    "\n",
    "pin = 1.0*zin/(n-1)/2\n",
    "pout = 1.0*zout/(3*n-1)/2\n",
    "\n",
    "g = nx.Graph()\n",
    "\n",
    "for nc in nall:\n",
    "    for i in nc:\n",
    "        for j in nc:\n",
    "            if i==j:\n",
    "                continue\n",
    "            p = random.random()\n",
    "            if p<pin:\n",
    "                g.add_edge(i,j)\n",
    "        for j in set(nodes)-set(nc):\n",
    "            p = random.random()\n",
    "            if p<pout:\n",
    "                g.add_edge(i,j)"
   ]
  },
  {
   "cell_type": "code",
   "execution_count": 4,
   "metadata": {
    "collapsed": false
   },
   "outputs": [],
   "source": [
    "with open('./data/GN_benchmark.edgelist','w') as f:\n",
    "    print>>f,'source,target,type,weight'\n",
    "    for i,j in g.edges():\n",
    "        print>>f,'%s,%s,undirected,1'%(i,j)"
   ]
  },
  {
   "cell_type": "markdown",
   "metadata": {},
   "source": [
    "### 利用 laplacian矩阵进行社团划分\n",
    "\n",
    "1. 计算laplacian矩阵\n",
    "2. 计算L矩阵的特征值和特征向量($0=\\lambda_0 < \\lambda_1 < \\lambda_2 \\dots$)\n",
    "3. 利用前几大特征值对应的特征向量进行聚类"
   ]
  },
  {
   "cell_type": "code",
   "execution_count": 14,
   "metadata": {
    "collapsed": false
   },
   "outputs": [],
   "source": [
    "lap_g = nx.laplacian_matrix(g) # laplacian matrix of g"
   ]
  },
  {
   "cell_type": "code",
   "execution_count": 12,
   "metadata": {
    "collapsed": false
   },
   "outputs": [],
   "source": [
    "eigval,eigvec = np.linalg.eigh(lap_g.todense())"
   ]
  },
  {
   "cell_type": "markdown",
   "metadata": {},
   "source": [
    "之前生成的GN网络有3个社团，取第1和第2特征向量"
   ]
  },
  {
   "cell_type": "code",
   "execution_count": 15,
   "metadata": {
    "collapsed": false
   },
   "outputs": [
    {
     "data": {
      "text/plain": [
       "<matplotlib.text.Text at 0x10be15290>"
      ]
     },
     "execution_count": 15,
     "metadata": {},
     "output_type": "execute_result"
    },
    {
     "data": {
      "image/png": "[encoded data removed]",
      "text/plain": [
       "<matplotlib.figure.Figure at 0x10bdd2090>"
      ]
     },
     "metadata": {},
     "output_type": "display_data"
    }
   ],
   "source": [
    "plt.plot(eigvec[:,1],eigvec[:,2],'o')\n",
    "plt.xlabel('1st eigenvector')\n",
    "plt.xlabel('2nd eigenvector')"
   ]
  },
  {
   "cell_type": "markdown",
   "metadata": {},
   "source": [
    "### 利用模块度优化算法进行社团划分"
   ]
  },
  {
   "cell_type": "code",
   "execution_count": 7,
   "metadata": {
    "collapsed": false
   },
   "outputs": [],
   "source": [
    "import community"
   ]
  },
  {
   "cell_type": "code",
   "execution_count": 9,
   "metadata": {
    "collapsed": false
   },
   "outputs": [],
   "source": [
    "##first compute the best partition\n",
    "partition = community.best_partition(g)"
   ]
  },
  {
   "cell_type": "code",
   "execution_count": 10,
   "metadata": {
    "collapsed": false
   },
   "outputs": [
    {
     "data": {
      "text/plain": [
       "{'a0': 2,\n",
       " 'a1': 2,\n",
       " 'a10': 2,\n",
       " 'a11': 2,\n",
       " 'a12': 2,\n",
       " 'a13': 2,\n",
       " 'a14': 2,\n",
       " 'a15': 2,\n",
       " 'a16': 2,\n",
       " 'a17': 2,\n",
       " 'a18': 2,\n",
       " 'a19': 2,\n",
       " 'a2': 2,\n",
       " 'a20': 2,\n",
       " 'a21': 2,\n",
       " 'a22': 2,\n",
       " 'a23': 2,\n",
       " 'a24': 2,\n",
       " 'a25': 2,\n",
       " 'a26': 2,\n",
       " 'a27': 2,\n",
       " 'a28': 2,\n",
       " 'a29': 2,\n",
       " 'a3': 2,\n",
       " 'a30': 2,\n",
       " 'a31': 2,\n",
       " 'a32': 2,\n",
       " 'a33': 2,\n",
       " 'a34': 2,\n",
       " 'a35': 2,\n",
       " 'a36': 2,\n",
       " 'a37': 2,\n",
       " 'a38': 2,\n",
       " 'a39': 2,\n",
       " 'a4': 2,\n",
       " 'a40': 2,\n",
       " 'a41': 2,\n",
       " 'a5': 2,\n",
       " 'a6': 2,\n",
       " 'a7': 2,\n",
       " 'a8': 2,\n",
       " 'a9': 2,\n",
       " 'b0': 0,\n",
       " 'b1': 0,\n",
       " 'b10': 0,\n",
       " 'b11': 0,\n",
       " 'b12': 0,\n",
       " 'b13': 0,\n",
       " 'b14': 0,\n",
       " 'b15': 0,\n",
       " 'b16': 0,\n",
       " 'b17': 0,\n",
       " 'b18': 0,\n",
       " 'b19': 0,\n",
       " 'b2': 0,\n",
       " 'b20': 0,\n",
       " 'b21': 0,\n",
       " 'b22': 0,\n",
       " 'b23': 0,\n",
       " 'b24': 0,\n",
       " 'b25': 0,\n",
       " 'b26': 0,\n",
       " 'b27': 0,\n",
       " 'b28': 0,\n",
       " 'b29': 0,\n",
       " 'b3': 0,\n",
       " 'b30': 0,\n",
       " 'b31': 0,\n",
       " 'b32': 0,\n",
       " 'b33': 0,\n",
       " 'b34': 0,\n",
       " 'b35': 0,\n",
       " 'b36': 0,\n",
       " 'b37': 0,\n",
       " 'b38': 0,\n",
       " 'b39': 0,\n",
       " 'b4': 0,\n",
       " 'b40': 0,\n",
       " 'b41': 0,\n",
       " 'b5': 0,\n",
       " 'b6': 0,\n",
       " 'b7': 0,\n",
       " 'b8': 0,\n",
       " 'b9': 0,\n",
       " 'c0': 1,\n",
       " 'c1': 1,\n",
       " 'c10': 1,\n",
       " 'c11': 1,\n",
       " 'c12': 1,\n",
       " 'c13': 1,\n",
       " 'c14': 1,\n",
       " 'c15': 1,\n",
       " 'c16': 1,\n",
       " 'c17': 1,\n",
       " 'c18': 1,\n",
       " 'c19': 1,\n",
       " 'c2': 1,\n",
       " 'c20': 1,\n",
       " 'c21': 1,\n",
       " 'c22': 1,\n",
       " 'c23': 1,\n",
       " 'c24': 1,\n",
       " 'c25': 1,\n",
       " 'c26': 1,\n",
       " 'c27': 1,\n",
       " 'c28': 1,\n",
       " 'c29': 1,\n",
       " 'c3': 1,\n",
       " 'c30': 1,\n",
       " 'c31': 1,\n",
       " 'c32': 1,\n",
       " 'c33': 1,\n",
       " 'c34': 1,\n",
       " 'c35': 1,\n",
       " 'c36': 1,\n",
       " 'c37': 1,\n",
       " 'c38': 1,\n",
       " 'c39': 1,\n",
       " 'c4': 1,\n",
       " 'c40': 1,\n",
       " 'c41': 1,\n",
       " 'c5': 1,\n",
       " 'c6': 1,\n",
       " 'c7': 1,\n",
       " 'c8': 1,\n",
       " 'c9': 1}"
      ]
     },
     "execution_count": 10,
     "metadata": {},
     "output_type": "execute_result"
    }
   ],
   "source": [
    "partition"
   ]
  },
  {
   "cell_type": "code",
   "execution_count": 13,
   "metadata": {
    "collapsed": false
   },
   "outputs": [
    {
     "data": {
      "image/png": "[encoded data removed]",
      "text/plain": [
       "<matplotlib.figure.Figure at 0x7f96b12aec10>"
      ]
     },
     "metadata": {},
     "output_type": "display_data"
    }
   ],
   "source": [
    "##drawing\n",
    "size = float(len(set(partition.values())))\n",
    "pos = nx.spring_layout(g)\n",
    "count = 0.\n",
    "\n",
    "colors=['r','g','b']\n",
    "for com in set(partition.values()) :\n",
    "    count = count + 1.\n",
    "    list_nodes = [nodes for nodes in partition.keys()\n",
    "                                if partition[nodes] == com]\n",
    "    nx.draw_networkx_nodes(g, pos, list_nodes, node_size = 20,\n",
    "                                node_color = colors[com])\n",
    "\n",
    "\n",
    "nx.draw_networkx_edges(g,pos, alpha=0.5)\n",
    "plt.show()"
   ]
  },
  {
   "cell_type": "markdown",
   "metadata": {},
   "source": [
    "模块度"
   ]
  },
  {
   "cell_type": "code",
   "execution_count": 14,
   "metadata": {
    "collapsed": false
   },
   "outputs": [
    {
     "data": {
      "text/plain": [
       "0.5257097971692732"
      ]
     },
     "execution_count": 14,
     "metadata": {},
     "output_type": "execute_result"
    }
   ],
   "source": [
    "## modularity\n",
    "community.modularity(partition,g)"
   ]
  },
  {
   "cell_type": "markdown",
   "metadata": {},
   "source": [
    "## 网络动力学\n",
    "\n",
    "### 疾病传播\n",
    "\n",
    "#### SIR\n",
    "S状态的节点以概率$\\beta$被处于I状态的邻居感染，I状态的节点以概率$\\gamma$恢复为R状态节点。"
   ]
  },
  {
   "cell_type": "code",
   "execution_count": 21,
   "metadata": {
    "collapsed": true
   },
   "outputs": [],
   "source": [
    "## SIR 模型\n",
    "\n",
    "def suspect_infect_recovery(G, sources, beta, gamma, T='inf'):\n",
    "    state = {i:'S' for i in G}\n",
    "    for s in sources:\n",
    "        state[s] = 'I'\n",
    "    if T=='inf':\n",
    "        dt = 0\n",
    "    else:\n",
    "        dt = 1\n",
    "    iterator = 0\n",
    "    flag = False\n",
    "    while iterator < T:\n",
    "        iterator += dt\n",
    "        if flag:\n",
    "            return state\n",
    "        flag = True\n",
    "        state_temp = state.copy()\n",
    "        for i in G:\n",
    "            if state[i] == 'S':\n",
    "                nbs = sum([1 for j in G.neighbors(i) if state[j]==\"I\"])\n",
    "                if nbs == 0:\n",
    "                    continue\n",
    "                if random.random() < (1 - (1-beta)**nbs):\n",
    "                    state_temp[i] = 'I'\n",
    "            elif state[i] == 'I':\n",
    "                flag = False\n",
    "                if random.random() < gamma:\n",
    "                    state_temp[i] = 'R'\n",
    "        state = state_temp.copy()\n",
    "    return state"
   ]
  },
  {
   "cell_type": "markdown",
   "metadata": {},
   "source": [
    "在空手道俱乐部上模拟SIR过程，以1号节点为起始节点"
   ]
  },
  {
   "cell_type": "code",
   "execution_count": 22,
   "metadata": {
    "collapsed": false
   },
   "outputs": [
    {
     "name": "stdout",
     "output_type": "stream",
     "text": [
      "各个节点的状态:  {0: 'R', 1: 'R', 2: 'S', 3: 'S', 4: 'R', 5: 'S', 6: 'R', 7: 'S', 8: 'S', 9: 'S', 10: 'S', 11: 'S', 12: 'R', 13: 'R', 14: 'S', 15: 'S', 16: 'S', 17: 'R', 18: 'S', 19: 'S', 20: 'S', 21: 'S', 22: 'S', 23: 'S', 24: 'S', 25: 'S', 26: 'S', 27: 'S', 28: 'R', 29: 'S', 30: 'S', 31: 'R', 32: 'R', 33: 'S'}\n",
      "总感染数:  10\n"
     ]
    }
   ],
   "source": [
    "beta = 0.3\n",
    "gamma = 1\n",
    "g = nx.karate_club_graph()\n",
    "\n",
    "state = suspect_infect_recovery(g,[1],beta,gamma)\n",
    "print '各个节点的状态: ',state\n",
    "print '总感染数: ',sum([1 for i in state if state[i]!='S'])"
   ]
  },
  {
   "cell_type": "markdown",
   "metadata": {},
   "source": [
    "## 节点重要性"
   ]
  },
  {
   "cell_type": "code",
   "execution_count": null,
   "metadata": {
    "collapsed": true
   },
   "outputs": [],
   "source": []
  },
  {
   "cell_type": "code",
   "execution_count": null,
   "metadata": {
    "collapsed": false
   },
   "outputs": [],
   "source": []
  }
 ],
 "metadata": {
  "kernelspec": {
   "display_name": "Python 2",
   "language": "python",
   "name": "python2"
  },
  "language_info": {
   "codemirror_mode": {
    "name": "ipython",
    "version": 2
   },
   "file_extension": ".py",
   "mimetype": "text/x-python",
   "name": "python",
   "nbconvert_exporter": "python",
   "pygments_lexer": "ipython2",
   "version": "2.7.13"
  },
  "latex_metadata": {
   "affiliation": "School of Systems Science, Beijing Normal University, Beijing 100875, China",
   "author": "Zhesi Shen, Ying Fan",
   "title": "Complex Networks Course"
  }
 },
 "nbformat": 4,
 "nbformat_minor": 0
}
